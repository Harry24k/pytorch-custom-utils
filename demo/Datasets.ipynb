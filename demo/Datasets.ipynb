{
 "cells": [
  {
   "cell_type": "markdown",
   "metadata": {},
   "source": [
    "# Datasets"
   ]
  },
  {
   "cell_type": "code",
   "execution_count": 1,
   "metadata": {},
   "outputs": [],
   "source": [
    "from torchhk.datasets import *"
   ]
  },
  {
   "cell_type": "code",
   "execution_count": 2,
   "metadata": {},
   "outputs": [],
   "source": [
    "import torchvision.transforms as transforms"
   ]
  },
  {
   "cell_type": "markdown",
   "metadata": {},
   "source": [
    "## 1. w/o Validation Set"
   ]
  },
  {
   "cell_type": "code",
   "execution_count": 2,
   "metadata": {},
   "outputs": [
    {
     "name": "stdout",
     "output_type": "stream",
     "text": [
      "Data Loaded!\n",
      "Train Data Length : 60000\n",
      "Test Data Length : 10000\n"
     ]
    }
   ],
   "source": [
    "mnist = Datasets(\"MNIST\", root='./data',\n",
    "                 transform_train=transforms.ToTensor(), \n",
    "                 transform_test=transforms.ToTensor())"
   ]
  },
  {
   "cell_type": "code",
   "execution_count": 3,
   "metadata": {},
   "outputs": [
    {
     "name": "stdout",
     "output_type": "stream",
     "text": [
      "------------------------\n",
      "MNIST\n",
      "------------------------\n",
      "[Train]\n",
      "* Data : Dataset MNIST\n",
      "    Number of datapoints: 60000\n",
      "    Root location: ./data\n",
      "    Split: Train\n",
      "    StandardTransform\n",
      "Transform: ToTensor()\n",
      "* Length : 60000\n",
      "* Loader : <torch.utils.data.dataloader.DataLoader object at 0x000001A9B4D9EBE0>\n",
      "------------------------\n",
      "[Test]\n",
      "* Data : Dataset MNIST\n",
      "    Number of datapoints: 10000\n",
      "    Root location: ./data\n",
      "    Split: Test\n",
      "    StandardTransform\n",
      "Transform: ToTensor()\n",
      "* Length : 10000\n",
      "* Loader : <torch.utils.data.dataloader.DataLoader object at 0x000001A9B4D9EC50>\n"
     ]
    }
   ],
   "source": [
    "train_data, test_data = mnist.get_data()\n",
    "train_len, test_len = mnist.get_len()\n",
    "train_loader, test_loader = mnist.get_loader(batch_size=100)\n",
    "\n",
    "print(\"------------------------\")\n",
    "print(mnist.data_name)\n",
    "print(\"------------------------\")\n",
    "print(\"[Train]\")\n",
    "print(\"* Data :\", train_data)\n",
    "print(\"* Length :\", train_len)\n",
    "print(\"* Loader :\", train_loader)\n",
    "print(\"------------------------\")\n",
    "print(\"[Test]\")\n",
    "print(\"* Data :\", test_data)\n",
    "print(\"* Length :\", test_len)\n",
    "print(\"* Loader :\", test_loader)"
   ]
  },
  {
   "cell_type": "markdown",
   "metadata": {},
   "source": [
    "## 2. w/ Validation Set"
   ]
  },
  {
   "cell_type": "markdown",
   "metadata": {},
   "source": [
    "### 2.1. By Index"
   ]
  },
  {
   "cell_type": "code",
   "execution_count": 4,
   "metadata": {},
   "outputs": [
    {
     "name": "stdout",
     "output_type": "stream",
     "text": [
      "Data Loaded (w/ Validation Set)!\n",
      "Train Data Length : 54000\n",
      "Val Data Length : 6000\n",
      "Test Data Length : 10000\n"
     ]
    }
   ],
   "source": [
    "mnist_val = Datasets(\"MNIST\", val_info=0.1,\n",
    "                     transform_train=transforms.ToTensor(), \n",
    "                     transform_test=transforms.ToTensor(), \n",
    "                     transform_val=transforms.ToTensor())"
   ]
  },
  {
   "cell_type": "code",
   "execution_count": 5,
   "metadata": {},
   "outputs": [
    {
     "name": "stdout",
     "output_type": "stream",
     "text": [
      "------------------------\n",
      "MNIST\n",
      "------------------------\n",
      "[Train]\n",
      "* Data : <torch.utils.data.dataset.Subset object at 0x000001A993C01358>\n",
      "* Length : 54000\n",
      "* Loader : <torch.utils.data.dataloader.DataLoader object at 0x000001A9BBABB7F0>\n",
      "------------------------\n",
      "[Val]\n",
      "* Data : <torch.utils.data.dataset.Subset object at 0x000001A993C0A208>\n",
      "* Length : 6000\n",
      "* Loader : <torch.utils.data.dataloader.DataLoader object at 0x000001A9BBABB860>\n",
      "------------------------\n",
      "[Test]\n",
      "* Data : Dataset MNIST\n",
      "    Number of datapoints: 10000\n",
      "    Root location: ./data\n",
      "    Split: Test\n",
      "    StandardTransform\n",
      "Transform: ToTensor()\n",
      "* Length : 10000\n",
      "* Loader : <torch.utils.data.dataloader.DataLoader object at 0x000001A9BBABB908>\n"
     ]
    }
   ],
   "source": [
    "train_data, val_data, test_data = mnist_val.get_data()\n",
    "train_len, val_len, test_len = mnist_val.get_len()\n",
    "train_loader, val_loader, test_loader = mnist_val.get_loader(batch_size=100)\n",
    "\n",
    "print(\"------------------------\")\n",
    "print(mnist.data_name)\n",
    "print(\"------------------------\")\n",
    "print(\"[Train]\")\n",
    "print(\"* Data :\", train_data)\n",
    "print(\"* Length :\", train_len)\n",
    "print(\"* Loader :\", train_loader)\n",
    "print(\"------------------------\")\n",
    "print(\"[Val]\")\n",
    "print(\"* Data :\", val_data)\n",
    "print(\"* Length :\", val_len)\n",
    "print(\"* Loader :\", val_loader)\n",
    "print(\"------------------------\")\n",
    "print(\"[Test]\")\n",
    "print(\"* Data :\", test_data)\n",
    "print(\"* Length :\", test_len)\n",
    "print(\"* Loader :\", test_loader)"
   ]
  },
  {
   "cell_type": "markdown",
   "metadata": {},
   "source": [
    "### 2.2. By Number"
   ]
  },
  {
   "cell_type": "code",
   "execution_count": 6,
   "metadata": {},
   "outputs": [
    {
     "name": "stdout",
     "output_type": "stream",
     "text": [
      "Data Loaded (w/ Validation Set)!\n",
      "Train Data Length : 55000\n",
      "Val Data Length : 5000\n",
      "Test Data Length : 10000\n"
     ]
    }
   ],
   "source": [
    "mnist_val = Datasets(\"MNIST\", val_info=5000,\n",
    "                     transform_train=transforms.ToTensor(), \n",
    "                     transform_test=transforms.ToTensor(), \n",
    "                     transform_val=transforms.ToTensor())"
   ]
  },
  {
   "cell_type": "code",
   "execution_count": 7,
   "metadata": {},
   "outputs": [
    {
     "name": "stdout",
     "output_type": "stream",
     "text": [
      "------------------------\n",
      "MNIST\n",
      "------------------------\n",
      "[Train]\n",
      "* Data : <torch.utils.data.dataset.Subset object at 0x000001A9B4D9E320>\n",
      "* Length : 55000\n",
      "* Loader : <torch.utils.data.dataloader.DataLoader object at 0x000001A9BBABBCF8>\n",
      "------------------------\n",
      "[Val]\n",
      "* Data : <torch.utils.data.dataset.Subset object at 0x000001A9B4D9E470>\n",
      "* Length : 5000\n",
      "* Loader : <torch.utils.data.dataloader.DataLoader object at 0x000001A9BBABBD68>\n",
      "------------------------\n",
      "[Test]\n",
      "* Data : Dataset MNIST\n",
      "    Number of datapoints: 10000\n",
      "    Root location: ./data\n",
      "    Split: Test\n",
      "    StandardTransform\n",
      "Transform: ToTensor()\n",
      "* Length : 10000\n",
      "* Loader : <torch.utils.data.dataloader.DataLoader object at 0x000001A9BBABBE10>\n"
     ]
    }
   ],
   "source": [
    "train_data, val_data, test_data = mnist_val.get_data()\n",
    "train_len, val_len, test_len = mnist_val.get_len()\n",
    "train_loader, val_loader, test_loader = mnist_val.get_loader(batch_size=100)\n",
    "\n",
    "print(\"------------------------\")\n",
    "print(mnist.data_name)\n",
    "print(\"------------------------\")\n",
    "print(\"[Train]\")\n",
    "print(\"* Data :\", train_data)\n",
    "print(\"* Length :\", train_len)\n",
    "print(\"* Loader :\", train_loader)\n",
    "print(\"------------------------\")\n",
    "print(\"[Val]\")\n",
    "print(\"* Data :\", val_data)\n",
    "print(\"* Length :\", val_len)\n",
    "print(\"* Loader :\", val_loader)\n",
    "print(\"------------------------\")\n",
    "print(\"[Test]\")\n",
    "print(\"* Data :\", test_data)\n",
    "print(\"* Length :\", test_len)\n",
    "print(\"* Loader :\", test_loader)"
   ]
  },
  {
   "cell_type": "markdown",
   "metadata": {},
   "source": [
    "### 2.3. By Index"
   ]
  },
  {
   "cell_type": "code",
   "execution_count": 8,
   "metadata": {},
   "outputs": [
    {
     "name": "stdout",
     "output_type": "stream",
     "text": [
      "Data Loaded (w/ Validation Set)!\n",
      "Train Data Length : 50000\n",
      "Val Data Length : 10000\n",
      "Test Data Length : 10000\n"
     ]
    }
   ],
   "source": [
    "mnist_val = Datasets(\"MNIST\", val_info=list(range(50000, 60000)),\n",
    "                     transform_train=transforms.ToTensor(), \n",
    "                     transform_test=transforms.ToTensor(), \n",
    "                     transform_val=transforms.ToTensor())"
   ]
  },
  {
   "cell_type": "code",
   "execution_count": 9,
   "metadata": {
    "scrolled": false
   },
   "outputs": [
    {
     "name": "stdout",
     "output_type": "stream",
     "text": [
      "------------------------\n",
      "MNIST\n",
      "------------------------\n",
      "[Train]\n",
      "* Data : <torch.utils.data.dataset.Subset object at 0x000001A9B4D9E7B8>\n",
      "* Length : 50000\n",
      "* Loader : <torch.utils.data.dataloader.DataLoader object at 0x000001A9BBABBF98>\n",
      "------------------------\n",
      "[Val]\n",
      "* Data : <torch.utils.data.dataset.Subset object at 0x000001A9B4D9E668>\n",
      "* Length : 10000\n",
      "* Loader : <torch.utils.data.dataloader.DataLoader object at 0x000001A9BBA440B8>\n",
      "------------------------\n",
      "[Test]\n",
      "* Data : Dataset MNIST\n",
      "    Number of datapoints: 10000\n",
      "    Root location: ./data\n",
      "    Split: Test\n",
      "    StandardTransform\n",
      "Transform: ToTensor()\n",
      "* Length : 10000\n",
      "* Loader : <torch.utils.data.dataloader.DataLoader object at 0x000001A9BBA44160>\n"
     ]
    }
   ],
   "source": [
    "train_data, val_data, test_data = mnist_val.get_data()\n",
    "train_len, val_len, test_len = mnist_val.get_len()\n",
    "train_loader, val_loader, test_loader = mnist_val.get_loader(batch_size=100)\n",
    "\n",
    "print(\"------------------------\")\n",
    "print(mnist.data_name)\n",
    "print(\"------------------------\")\n",
    "print(\"[Train]\")\n",
    "print(\"* Data :\", train_data)\n",
    "print(\"* Length :\", train_len)\n",
    "print(\"* Loader :\", train_loader)\n",
    "print(\"------------------------\")\n",
    "print(\"[Val]\")\n",
    "print(\"* Data :\", val_data)\n",
    "print(\"* Length :\", val_len)\n",
    "print(\"* Loader :\", val_loader)\n",
    "print(\"------------------------\")\n",
    "print(\"[Test]\")\n",
    "print(\"* Data :\", test_data)\n",
    "print(\"* Length :\", test_len)\n",
    "print(\"* Loader :\", test_loader)"
   ]
  },
  {
   "cell_type": "markdown",
   "metadata": {},
   "source": [
    "## 3. Label Filtering"
   ]
  },
  {
   "cell_type": "code",
   "execution_count": 10,
   "metadata": {},
   "outputs": [
    {
     "name": "stdout",
     "output_type": "stream",
     "text": [
      "Files already downloaded and verified\n",
      "Files already downloaded and verified\n",
      "Data Loaded! (w/ Label Filtering)\n",
      "Train Data Length : 15000\n",
      "Test Data Length : 3000\n"
     ]
    }
   ],
   "source": [
    "# (1) Filter images whose label is in {0(airplane),1(automobile),7(horse)}\n",
    "# (2) Change the label {0,1,7} to {0,1,2}\n",
    "mnist = Datasets(\"CIFAR10\", val_info=None, label_filter={0:0, 1:1, 7:2},\n",
    "                 transform_train=transforms.ToTensor(), \n",
    "                 transform_test=transforms.ToTensor(), \n",
    "                 transform_val=transforms.ToTensor())"
   ]
  },
  {
   "cell_type": "code",
   "execution_count": 11,
   "metadata": {},
   "outputs": [
    {
     "name": "stdout",
     "output_type": "stream",
     "text": [
      "------------------------\n",
      "CIFAR10\n",
      "------------------------\n",
      "[Train]\n",
      "* Data : <torch.utils.data.dataset.Subset object at 0x000001A9BBABB9E8>\n",
      "* Length : 15000\n",
      "* Loader : <torch.utils.data.dataloader.DataLoader object at 0x000001A9B4D9E8D0>\n",
      "------------------------\n",
      "[Test]\n",
      "* Data : <torch.utils.data.dataset.Subset object at 0x000001A9BBABBBE0>\n",
      "* Length : 3000\n",
      "* Loader : <torch.utils.data.dataloader.DataLoader object at 0x000001A9B4D9E9B0>\n"
     ]
    }
   ],
   "source": [
    "train_data, test_data = mnist.get_data()\n",
    "train_len, test_len = mnist.get_len()\n",
    "train_loader, test_loader = mnist.get_loader(batch_size=5)\n",
    "\n",
    "print(\"------------------------\")\n",
    "print(mnist.data_name)\n",
    "print(\"------------------------\")\n",
    "print(\"[Train]\")\n",
    "print(\"* Data :\", train_data)\n",
    "print(\"* Length :\", train_len)\n",
    "print(\"* Loader :\", train_loader)\n",
    "print(\"------------------------\")\n",
    "print(\"[Test]\")\n",
    "print(\"* Data :\", test_data)\n",
    "print(\"* Length :\", test_len)\n",
    "print(\"* Loader :\", test_loader)"
   ]
  },
  {
   "cell_type": "code",
   "execution_count": 12,
   "metadata": {},
   "outputs": [
    {
     "data": {
      "image/png": "[encoded data removed]",
      "text/plain": [
       "<Figure size 432x432 with 1 Axes>"
      ]
     },
     "metadata": {},
     "output_type": "display_data"
    }
   ],
   "source": [
    "from torchhk.vis import *\n",
    "train_img, train_label = iter(train_loader).next()\n",
    "ax = init_plot(title=train_label.numpy().tolist())\n",
    "plot_img(ax, train_img, ncols=5)"
   ]
  }
 ],
 "metadata": {
  "kernelspec": {
   "display_name": "Python 3",
   "language": "python",
   "name": "python3"
  },
  "language_info": {
   "codemirror_mode": {
    "name": "ipython",
    "version": 3
   },
   "file_extension": ".py",
   "mimetype": "text/x-python",
   "name": "python",
   "nbconvert_exporter": "python",
   "pygments_lexer": "ipython3",
   "version": "3.6.5"
  }
 },
 "nbformat": 4,
 "nbformat_minor": 2
}
