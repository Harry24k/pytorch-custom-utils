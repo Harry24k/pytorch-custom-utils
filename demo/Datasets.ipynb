{
 "cells": [
  {
   "cell_type": "markdown",
   "metadata": {},
   "source": [
    "# Datasets"
   ]
  },
  {
   "cell_type": "code",
   "execution_count": null,
   "metadata": {},
   "outputs": [],
   "source": [
    "from torchhk.datasets import *"
   ]
  },
  {
   "cell_type": "code",
   "execution_count": null,
   "metadata": {},
   "outputs": [],
   "source": [
    "mnist = Datasets(\"MNIST\", root='./data', val_idx=None, label_filter=None,\n",
    "                 transform_train=transforms.ToTensor(), \n",
    "                 transform_test=transforms.ToTensor())"
   ]
  },
  {
   "cell_type": "markdown",
   "metadata": {},
   "source": [
    "## 1. w/o Validation Set"
   ]
  },
  {
   "cell_type": "code",
   "execution_count": null,
   "metadata": {},
   "outputs": [],
   "source": [
    "mnist = Datasets(\"MNIST\", root='./data', val_idx=None, label_filter=None,\n",
    "                 transform_train=transforms.ToTensor(), \n",
    "                 transform_test=transforms.ToTensor())"
   ]
  },
  {
   "cell_type": "code",
   "execution_count": null,
   "metadata": {},
   "outputs": [],
   "source": [
    "train_data, test_data = mnist.get_data()\n",
    "train_len, test_len = mnist.get_len()\n",
    "train_loader, test_loader = mnist.get_loader(batch_size=100)\n",
    "\n",
    "print(\"------------------------\")\n",
    "print(mnist.data_name)\n",
    "print(\"------------------------\")\n",
    "print(\"[Train]\")\n",
    "print(\"* Data :\", train_data)\n",
    "print(\"* Length :\", train_len)\n",
    "print(\"* Loader :\", train_loader)\n",
    "print(\"------------------------\")\n",
    "print(\"[Test]\")\n",
    "print(\"* Data :\", test_data)\n",
    "print(\"* Length :\", test_len)\n",
    "print(\"* Loader :\", test_loader)"
   ]
  },
  {
   "cell_type": "markdown",
   "metadata": {},
   "source": [
    "## 2. w/ Validation Set"
   ]
  },
  {
   "cell_type": "code",
   "execution_count": null,
   "metadata": {},
   "outputs": [],
   "source": [
    "mnist_val = Datasets(\"MNIST\", val_idx=list(range(50000, 60000)), label_filter=None,\n",
    "                     transform_train=transforms.ToTensor(), \n",
    "                     transform_test=transforms.ToTensor(), \n",
    "                     transform_val=transforms.ToTensor())"
   ]
  },
  {
   "cell_type": "code",
   "execution_count": null,
   "metadata": {},
   "outputs": [],
   "source": [
    "train_data, val_data, test_data = mnist_val.get_data()\n",
    "train_len, val_len, test_len = mnist_val.get_len()\n",
    "train_loader, val_loader, test_loader = mnist_val.get_loader(batch_size=100)\n",
    "\n",
    "print(\"------------------------\")\n",
    "print(mnist.data_name)\n",
    "print(\"------------------------\")\n",
    "print(\"[Train]\")\n",
    "print(\"* Data :\", train_data)\n",
    "print(\"* Length :\", train_len)\n",
    "print(\"* Loader :\", train_loader)\n",
    "print(\"------------------------\")\n",
    "print(\"[Val]\")\n",
    "print(\"* Data :\", val_data)\n",
    "print(\"* Length :\", val_len)\n",
    "print(\"* Loader :\", val_loader)\n",
    "print(\"------------------------\")\n",
    "print(\"[Test]\")\n",
    "print(\"* Data :\", test_data)\n",
    "print(\"* Length :\", test_len)\n",
    "print(\"* Loader :\", test_loader)"
   ]
  },
  {
   "cell_type": "markdown",
   "metadata": {},
   "source": [
    "## 3. Label Filtering"
   ]
  },
  {
   "cell_type": "code",
   "execution_count": null,
   "metadata": {},
   "outputs": [],
   "source": [
    "# (1) Filter images whose label is in {0(airplane),1(automobile),7(horse)}\n",
    "# (2) Change the label {0,1,7} to {0,1,2}\n",
    "mnist = Datasets(\"CIFAR10\", val_idx=None, label_filter={0:0, 1:1, 7:2},\n",
    "                 transform_train=transforms.ToTensor(), \n",
    "                 transform_test=transforms.ToTensor(), \n",
    "                 transform_val=transforms.ToTensor())"
   ]
  },
  {
   "cell_type": "code",
   "execution_count": null,
   "metadata": {},
   "outputs": [],
   "source": [
    "train_data, test_data = mnist.get_data()\n",
    "train_len, test_len = mnist.get_len()\n",
    "train_loader, test_loader = mnist.get_loader(batch_size=5)\n",
    "\n",
    "print(\"------------------------\")\n",
    "print(mnist.data_name)\n",
    "print(\"------------------------\")\n",
    "print(\"[Train]\")\n",
    "print(\"* Data :\", train_data)\n",
    "print(\"* Length :\", train_len)\n",
    "print(\"* Loader :\", train_loader)\n",
    "print(\"------------------------\")\n",
    "print(\"[Test]\")\n",
    "print(\"* Data :\", test_data)\n",
    "print(\"* Length :\", test_len)\n",
    "print(\"* Loader :\", test_loader)"
   ]
  },
  {
   "cell_type": "code",
   "execution_count": null,
   "metadata": {},
   "outputs": [],
   "source": [
    "from torchhk.vis import *\n",
    "train_img, train_label = iter(train_loader).next()\n",
    "ax = init_plot(title=train_label.numpy().tolist())\n",
    "plot_img(ax, train_img, ncols=5)"
   ]
  }
 ],
 "metadata": {
  "kernelspec": {
   "display_name": "Python 3",
   "language": "python",
   "name": "python3"
  },
  "language_info": {
   "codemirror_mode": {
    "name": "ipython",
    "version": 3
   },
   "file_extension": ".py",
   "mimetype": "text/x-python",
   "name": "python",
   "nbconvert_exporter": "python",
   "pygments_lexer": "ipython3",
   "version": "3.6.5"
  }
 },
 "nbformat": 4,
 "nbformat_minor": 2
}
