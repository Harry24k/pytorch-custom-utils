{
 "cells": [
  {
   "cell_type": "markdown",
   "metadata": {},
   "source": [
    "# 12. Improving Simple CNN"
   ]
  },
  {
   "cell_type": "code",
   "execution_count": 4,
   "metadata": {},
   "outputs": [],
   "source": [
    "import torch\n",
    "import torch.nn as nn\n",
    "import torch.nn.init as init\n",
    "import torch.optim as optim\n",
    "\n",
    "import torchvision.utils\n",
    "import torchvision.datasets as dsets\n",
    "import torchvision.transforms as transforms\n",
    "\n",
    "import numpy as np\n",
    "import os"
   ]
  },
  {
   "cell_type": "code",
   "execution_count": 5,
   "metadata": {},
   "outputs": [],
   "source": [
    "import torchbnn as bnn"
   ]
  },
  {
   "cell_type": "markdown",
   "metadata": {},
   "source": [
    "## 12.2 Define Model"
   ]
  },
  {
   "cell_type": "code",
   "execution_count": 11,
   "metadata": {},
   "outputs": [],
   "source": [
    "class CNN(nn.Module):\n",
    "    def __init__(self):\n",
    "        super(CNN, self).__init__()\n",
    "        \n",
    "        self.fc_layer = nn.Sequential(\n",
    "            nn.Linear(1000,500),\n",
    "            nn.ReLU(),\n",
    "            nn.Linear(500,39),\n",
    "            bnn.BayesLinear(0, 0.15, 39, 39)\n",
    "        )\n",
    "                       \n",
    "    def forward(self, x):\n",
    "        \n",
    "        out = self.fc_layer(x)\n",
    "        \n",
    "        return out "
   ]
  },
  {
   "cell_type": "code",
   "execution_count": 13,
   "metadata": {},
   "outputs": [],
   "source": [
    "model = CNN().eval()"
   ]
  },
  {
   "cell_type": "code",
   "execution_count": 14,
   "metadata": {
    "scrolled": true
   },
   "outputs": [],
   "source": [
    "trace, out, inputs = torch.jit.get_trace_graph(model, args=torch.ones([20, 1000]), return_inputs=True)"
   ]
  },
  {
   "cell_type": "code",
   "execution_count": 15,
   "metadata": {},
   "outputs": [],
   "source": [
    "torch.onnx._optimize_trace(trace, torch.onnx.OperatorExportTypes.ONNX)"
   ]
  },
  {
   "cell_type": "code",
   "execution_count": 16,
   "metadata": {},
   "outputs": [],
   "source": [
    "torch_graph = trace.graph()"
   ]
  },
  {
   "cell_type": "code",
   "execution_count": 21,
   "metadata": {},
   "outputs": [
    {
     "name": "stdout",
     "output_type": "stream",
     "text": [
      "20, 500\n",
      "20, 500\n",
      "20, 39\n",
      "39, 39\n",
      "39, 39\n",
      "39, 39\n",
      "39, 39\n",
      "39\n",
      "39\n",
      "39\n",
      "39\n",
      "20, 39\n"
     ]
    }
   ],
   "source": [
    "for torch_node in torch_graph.nodes():\n",
    "    print(str(torch_node).split(\"(\")[1].split(\")\")[0])"
   ]
  },
  {
   "cell_type": "code",
   "execution_count": 22,
   "metadata": {
    "scrolled": true
   },
   "outputs": [
    {
     "name": "stdout",
     "output_type": "stream",
     "text": [
      "0 th\n",
      "torch.Size([20, 1000])\n",
      "1 th\n",
      "torch.Size([500, 1000])\n",
      "2 th\n",
      "torch.Size([500])\n",
      "3 th\n",
      "torch.Size([39, 500])\n",
      "4 th\n",
      "torch.Size([39])\n",
      "5 th\n",
      "torch.Size([39, 39])\n",
      "6 th\n",
      "torch.Size([39, 39])\n",
      "7 th\n",
      "torch.Size([39])\n",
      "8 th\n",
      "torch.Size([39])\n"
     ]
    }
   ],
   "source": [
    "for i, item in enumerate(inputs) :\n",
    "    print(i,\"th\")\n",
    "    print(item.shape)"
   ]
  },
  {
   "cell_type": "code",
   "execution_count": 23,
   "metadata": {},
   "outputs": [],
   "source": [
    "out = torch_node.output()"
   ]
  },
  {
   "cell_type": "code",
   "execution_count": 24,
   "metadata": {
    "scrolled": false
   },
   "outputs": [
    {
     "name": "stdout",
     "output_type": "stream",
     "text": [
      "%9 : Float(20, 500) = onnx::Gemm[alpha=1, beta=1, transB=1](%input.1, %1, %2), scope: CNN/Sequential[fc_layer]/Linear[0] # C:\\Users\\slcf\\Anaconda3\\lib\\site-packages\\torch\\nn\\functional.py:1369:0\n",
      "\n",
      "%10 : Float(20, 500) = onnx::Relu(%9), scope: CNN/Sequential[fc_layer]/ReLU[1] # C:\\Users\\slcf\\Anaconda3\\lib\\site-packages\\torch\\nn\\functional.py:913:0\n",
      "\n",
      "%11 : Float(20, 39) = onnx::Gemm[alpha=1, beta=1, transB=1](%10, %3, %4), scope: CNN/Sequential[fc_layer]/Linear[2] # C:\\Users\\slcf\\Anaconda3\\lib\\site-packages\\torch\\nn\\functional.py:1369:0\n",
      "\n",
      "%12 : Float(39, 39) = onnx::Exp(%6), scope: CNN/Sequential[fc_layer]/BayesLinear[3] # C:\\Users\\slcf\\Anaconda3\\lib\\site-packages\\torchbnn\\modules\\linear.py:66:0\n",
      "\n",
      "%13 : Float(39, 39) = onnx::RandomNormalLike(%6), scope: CNN/Sequential[fc_layer]/BayesLinear[3] # C:\\Users\\slcf\\Anaconda3\\lib\\site-packages\\torchbnn\\modules\\linear.py:66:0\n",
      "\n",
      "%14 : Float(39, 39) = onnx::Mul(%12, %13), scope: CNN/Sequential[fc_layer]/BayesLinear[3] # C:\\Users\\slcf\\Anaconda3\\lib\\site-packages\\torchbnn\\modules\\linear.py:66:0\n",
      "\n",
      "%15 : Float(39, 39) = onnx::Add(%5, %14), scope: CNN/Sequential[fc_layer]/BayesLinear[3] # C:\\Users\\slcf\\Anaconda3\\lib\\site-packages\\torchbnn\\modules\\linear.py:66:0\n",
      "\n",
      "%16 : Float(39) = onnx::Exp(%8), scope: CNN/Sequential[fc_layer]/BayesLinear[3] # C:\\Users\\slcf\\Anaconda3\\lib\\site-packages\\torchbnn\\modules\\linear.py:69:0\n",
      "\n",
      "%17 : Float(39) = onnx::RandomNormalLike(%8), scope: CNN/Sequential[fc_layer]/BayesLinear[3] # C:\\Users\\slcf\\Anaconda3\\lib\\site-packages\\torchbnn\\modules\\linear.py:69:0\n",
      "\n",
      "%18 : Float(39) = onnx::Mul(%16, %17), scope: CNN/Sequential[fc_layer]/BayesLinear[3] # C:\\Users\\slcf\\Anaconda3\\lib\\site-packages\\torchbnn\\modules\\linear.py:69:0\n",
      "\n",
      "%19 : Float(39) = onnx::Add(%7, %18), scope: CNN/Sequential[fc_layer]/BayesLinear[3] # C:\\Users\\slcf\\Anaconda3\\lib\\site-packages\\torchbnn\\modules\\linear.py:69:0\n",
      "\n",
      "%20 : Float(20, 39) = onnx::Gemm[alpha=1, beta=1, transB=1](%11, %15, %19), scope: CNN/Sequential[fc_layer]/BayesLinear[3] # C:\\Users\\slcf\\Anaconda3\\lib\\site-packages\\torch\\nn\\functional.py:1369:0\n",
      "\n"
     ]
    }
   ],
   "source": [
    "for torch_node in torch_graph.nodes():\n",
    "    print(torch_node)"
   ]
  },
  {
   "cell_type": "code",
   "execution_count": 25,
   "metadata": {
    "scrolled": false
   },
   "outputs": [
    {
     "name": "stdout",
     "output_type": "stream",
     "text": [
      "-1. op : onnx::Gemm\n",
      "-2. params : {'alpha': 1.0, 'beta': 1.0, 'transB': 1}\n",
      "-3. inputs : [0, 1, 2]\n",
      "-4. outputs : [9]\n",
      "--------------------------------------------------\n",
      "-1. op : onnx::Relu\n",
      "-2. params : {}\n",
      "-3. inputs : [9]\n",
      "-4. outputs : [10]\n",
      "--------------------------------------------------\n",
      "-1. op : onnx::Gemm\n",
      "-2. params : {'alpha': 1.0, 'beta': 1.0, 'transB': 1}\n",
      "-3. inputs : [10, 3, 4]\n",
      "-4. outputs : [11]\n",
      "--------------------------------------------------\n",
      "-1. op : onnx::Exp\n",
      "-2. params : {}\n",
      "-3. inputs : [6]\n",
      "-4. outputs : [12]\n",
      "--------------------------------------------------\n",
      "-1. op : onnx::RandomNormalLike\n",
      "-2. params : {}\n",
      "-3. inputs : [6]\n",
      "-4. outputs : [13]\n",
      "--------------------------------------------------\n",
      "-1. op : onnx::Mul\n",
      "-2. params : {}\n",
      "-3. inputs : [12, 13]\n",
      "-4. outputs : [14]\n",
      "--------------------------------------------------\n",
      "-1. op : onnx::Add\n",
      "-2. params : {}\n",
      "-3. inputs : [5, 14]\n",
      "-4. outputs : [15]\n",
      "--------------------------------------------------\n",
      "-1. op : onnx::Exp\n",
      "-2. params : {}\n",
      "-3. inputs : [8]\n",
      "-4. outputs : [16]\n",
      "--------------------------------------------------\n",
      "-1. op : onnx::RandomNormalLike\n",
      "-2. params : {}\n",
      "-3. inputs : [8]\n",
      "-4. outputs : [17]\n",
      "--------------------------------------------------\n",
      "-1. op : onnx::Mul\n",
      "-2. params : {}\n",
      "-3. inputs : [16, 17]\n",
      "-4. outputs : [18]\n",
      "--------------------------------------------------\n",
      "-1. op : onnx::Add\n",
      "-2. params : {}\n",
      "-3. inputs : [7, 18]\n",
      "-4. outputs : [19]\n",
      "--------------------------------------------------\n",
      "-1. op : onnx::Gemm\n",
      "-2. params : {'alpha': 1.0, 'beta': 1.0, 'transB': 1}\n",
      "-3. inputs : [11, 15, 19]\n",
      "-4. outputs : [20]\n",
      "--------------------------------------------------\n"
     ]
    }
   ],
   "source": [
    "for torch_node in torch_graph.nodes():\n",
    "        # Op\n",
    "        op = torch_node.kind()\n",
    "        # Parameters\n",
    "        params = {k: torch_node[k] for k in torch_node.attributeNames()} \n",
    "        # Inputs/outputs\n",
    "        # TODO: inputs = [i.unique() for i in node.inputs()]\n",
    "        outputs = [o.unique() for o in torch_node.outputs()]\n",
    "        # Add HL node\n",
    "        inputs = [i.unique() for i in torch_node.inputs()]\n",
    "        \n",
    "        print(\"-1. op :\",op)\n",
    "        print(\"-2. params :\",params)\n",
    "        print(\"-3. inputs :\",inputs)\n",
    "        print(\"-4. outputs :\",outputs)\n",
    "        print(\"-\"*50)"
   ]
  },
  {
   "cell_type": "code",
   "execution_count": 26,
   "metadata": {},
   "outputs": [
    {
     "data": {
      "text/plain": [
       "graph(%input.1 : Float(20, 1000),\n",
       "      %1 : Float(500, 1000),\n",
       "      %2 : Float(500),\n",
       "      %3 : Float(39, 500),\n",
       "      %4 : Float(39),\n",
       "      %5 : Float(39, 39),\n",
       "      %6 : Float(39, 39),\n",
       "      %7 : Float(39),\n",
       "      %8 : Float(39)):\n",
       "  %9 : Float(20, 500) = onnx::Gemm[alpha=1, beta=1, transB=1](%input.1, %1, %2), scope: CNN/Sequential[fc_layer]/Linear[0] # C:\\Users\\slcf\\Anaconda3\\lib\\site-packages\\torch\\nn\\functional.py:1369:0\n",
       "  %10 : Float(20, 500) = onnx::Relu(%9), scope: CNN/Sequential[fc_layer]/ReLU[1] # C:\\Users\\slcf\\Anaconda3\\lib\\site-packages\\torch\\nn\\functional.py:913:0\n",
       "  %11 : Float(20, 39) = onnx::Gemm[alpha=1, beta=1, transB=1](%10, %3, %4), scope: CNN/Sequential[fc_layer]/Linear[2] # C:\\Users\\slcf\\Anaconda3\\lib\\site-packages\\torch\\nn\\functional.py:1369:0\n",
       "  %12 : Float(39, 39) = onnx::Exp(%6), scope: CNN/Sequential[fc_layer]/BayesLinear[3] # C:\\Users\\slcf\\Anaconda3\\lib\\site-packages\\torchbnn\\modules\\linear.py:66:0\n",
       "  %13 : Float(39, 39) = onnx::RandomNormalLike(%6), scope: CNN/Sequential[fc_layer]/BayesLinear[3] # C:\\Users\\slcf\\Anaconda3\\lib\\site-packages\\torchbnn\\modules\\linear.py:66:0\n",
       "  %14 : Float(39, 39) = onnx::Mul(%12, %13), scope: CNN/Sequential[fc_layer]/BayesLinear[3] # C:\\Users\\slcf\\Anaconda3\\lib\\site-packages\\torchbnn\\modules\\linear.py:66:0\n",
       "  %15 : Float(39, 39) = onnx::Add(%5, %14), scope: CNN/Sequential[fc_layer]/BayesLinear[3] # C:\\Users\\slcf\\Anaconda3\\lib\\site-packages\\torchbnn\\modules\\linear.py:66:0\n",
       "  %16 : Float(39) = onnx::Exp(%8), scope: CNN/Sequential[fc_layer]/BayesLinear[3] # C:\\Users\\slcf\\Anaconda3\\lib\\site-packages\\torchbnn\\modules\\linear.py:69:0\n",
       "  %17 : Float(39) = onnx::RandomNormalLike(%8), scope: CNN/Sequential[fc_layer]/BayesLinear[3] # C:\\Users\\slcf\\Anaconda3\\lib\\site-packages\\torchbnn\\modules\\linear.py:69:0\n",
       "  %18 : Float(39) = onnx::Mul(%16, %17), scope: CNN/Sequential[fc_layer]/BayesLinear[3] # C:\\Users\\slcf\\Anaconda3\\lib\\site-packages\\torchbnn\\modules\\linear.py:69:0\n",
       "  %19 : Float(39) = onnx::Add(%7, %18), scope: CNN/Sequential[fc_layer]/BayesLinear[3] # C:\\Users\\slcf\\Anaconda3\\lib\\site-packages\\torchbnn\\modules\\linear.py:69:0\n",
       "  %20 : Float(20, 39) = onnx::Gemm[alpha=1, beta=1, transB=1](%11, %15, %19), scope: CNN/Sequential[fc_layer]/BayesLinear[3] # C:\\Users\\slcf\\Anaconda3\\lib\\site-packages\\torch\\nn\\functional.py:1369:0\n",
       "  return (%20)"
      ]
     },
     "execution_count": 26,
     "metadata": {},
     "output_type": "execute_result"
    }
   ],
   "source": [
    "torch_graph"
   ]
  },
  {
   "cell_type": "code",
   "execution_count": null,
   "metadata": {},
   "outputs": [],
   "source": []
  }
 ],
 "metadata": {
  "kernelspec": {
   "display_name": "Python 3",
   "language": "python",
   "name": "python3"
  },
  "language_info": {
   "codemirror_mode": {
    "name": "ipython",
    "version": 3
   },
   "file_extension": ".py",
   "mimetype": "text/x-python",
   "name": "python",
   "nbconvert_exporter": "python",
   "pygments_lexer": "ipython3",
   "version": "3.6.5"
  },
  "varInspector": {
   "cols": {
    "lenName": 16,
    "lenType": 16,
    "lenVar": 40
   },
   "kernels_config": {
    "python": {
     "delete_cmd_postfix": "",
     "delete_cmd_prefix": "del ",
     "library": "var_list.py",
     "varRefreshCmd": "print(var_dic_list())"
    },
    "r": {
     "delete_cmd_postfix": ") ",
     "delete_cmd_prefix": "rm(",
     "library": "var_list.r",
     "varRefreshCmd": "cat(var_dic_list()) "
    }
   },
   "types_to_exclude": [
    "module",
    "function",
    "builtin_function_or_method",
    "instance",
    "_Feature"
   ],
   "window_display": false
  }
 },
 "nbformat": 4,
 "nbformat_minor": 2
}
