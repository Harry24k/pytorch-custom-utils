{
 "cells": [
  {
   "cell_type": "markdown",
   "metadata": {},
   "source": [
    "# Datasets"
   ]
  },
  {
   "cell_type": "code",
   "execution_count": 1,
   "metadata": {},
   "outputs": [],
   "source": [
    "from torchhk import *"
   ]
  },
  {
   "cell_type": "markdown",
   "metadata": {},
   "source": [
    "## 1. w/o Validation Set"
   ]
  },
  {
   "cell_type": "code",
   "execution_count": 2,
   "metadata": {},
   "outputs": [
    {
     "name": "stdout",
     "output_type": "stream",
     "text": [
      "Data Loaded!\n",
      "Train Data Length : 60000\n",
      "Test Data Length : 10000\n"
     ]
    }
   ],
   "source": [
    "mnist = Datasets(\"MNIST\")"
   ]
  },
  {
   "cell_type": "code",
   "execution_count": 3,
   "metadata": {},
   "outputs": [
    {
     "name": "stdout",
     "output_type": "stream",
     "text": [
      "------------------------\n",
      "MNIST\n",
      "------------------------\n",
      "[Train]\n",
      "* Data : Dataset MNIST\n",
      "    Number of datapoints: 60000\n",
      "    Root location: ./data\n",
      "    Split: Train\n",
      "    StandardTransform\n",
      "Transform: ToTensor()\n",
      "* Length : 60000\n",
      "* Loader : <torch.utils.data.dataloader.DataLoader object at 0x000001ECC5C8CCF8>\n",
      "------------------------\n",
      "[Test]\n",
      "* Data : Dataset MNIST\n",
      "    Number of datapoints: 10000\n",
      "    Root location: ./data\n",
      "    Split: Test\n",
      "    StandardTransform\n",
      "Transform: ToTensor()\n",
      "* Length : 10000\n",
      "* Loader : <torch.utils.data.dataloader.DataLoader object at 0x000001ECC5C8CD68>\n"
     ]
    }
   ],
   "source": [
    "train_data, test_data = mnist.get_data()\n",
    "train_len, test_len = mnist.get_len()\n",
    "train_loader, test_loader = mnist.get_loader(batch_size=100)\n",
    "\n",
    "print(\"------------------------\")\n",
    "print(mnist.data_name)\n",
    "print(\"------------------------\")\n",
    "print(\"[Train]\")\n",
    "print(\"* Data :\", train_data)\n",
    "print(\"* Length :\", train_len)\n",
    "print(\"* Loader :\", train_loader)\n",
    "print(\"------------------------\")\n",
    "print(\"[Test]\")\n",
    "print(\"* Data :\", test_data)\n",
    "print(\"* Length :\", test_len)\n",
    "print(\"* Loader :\", test_loader)"
   ]
  },
  {
   "cell_type": "markdown",
   "metadata": {},
   "source": [
    "## 2. w/ Validation Set"
   ]
  },
  {
   "cell_type": "code",
   "execution_count": 4,
   "metadata": {},
   "outputs": [
    {
     "name": "stdout",
     "output_type": "stream",
     "text": [
      "Data Loaded!\n",
      "Train Data Length : 59000\n",
      "Val Data Length : 1000\n",
      "Test Data Length : 10000\n"
     ]
    }
   ],
   "source": [
    "mnist_val = Datasets(\"MNIST\", val_idx=list(range(1000, 2000)))"
   ]
  },
  {
   "cell_type": "code",
   "execution_count": 5,
   "metadata": {},
   "outputs": [
    {
     "name": "stdout",
     "output_type": "stream",
     "text": [
      "------------------------\n",
      "MNIST\n",
      "------------------------\n",
      "[Train]\n",
      "* Data : <torch.utils.data.dataset.Subset object at 0x000001ECBB865978>\n",
      "* Length : 59000\n",
      "* Loader : <torch.utils.data.dataloader.DataLoader object at 0x000001ECC5CA9320>\n",
      "------------------------\n",
      "[Val]\n",
      "* Data : <torch.utils.data.dataset.Subset object at 0x000001ECBB865A20>\n",
      "* Length : 1000\n",
      "* Loader : <torch.utils.data.dataloader.DataLoader object at 0x000001ECC5CA9390>\n",
      "------------------------\n",
      "[Test]\n",
      "* Data : Dataset MNIST\n",
      "    Number of datapoints: 10000\n",
      "    Root location: ./data\n",
      "    Split: Test\n",
      "    StandardTransform\n",
      "Transform: ToTensor()\n",
      "* Length : 10000\n",
      "* Loader : <torch.utils.data.dataloader.DataLoader object at 0x000001ECC5CA9438>\n"
     ]
    }
   ],
   "source": [
    "train_data, val_data, test_data = mnist_val.get_data()\n",
    "train_len, val_len, test_len = mnist_val.get_len()\n",
    "train_loader, val_loader, test_loader = mnist_val.get_loader(batch_size=100)\n",
    "\n",
    "print(\"------------------------\")\n",
    "print(mnist.data_name)\n",
    "print(\"------------------------\")\n",
    "print(\"[Train]\")\n",
    "print(\"* Data :\", train_data)\n",
    "print(\"* Length :\", train_len)\n",
    "print(\"* Loader :\", train_loader)\n",
    "print(\"------------------------\")\n",
    "print(\"[Val]\")\n",
    "print(\"* Data :\", val_data)\n",
    "print(\"* Length :\", val_len)\n",
    "print(\"* Loader :\", val_loader)\n",
    "print(\"------------------------\")\n",
    "print(\"[Test]\")\n",
    "print(\"* Data :\", test_data)\n",
    "print(\"* Length :\", test_len)\n",
    "print(\"* Loader :\", test_loader)"
   ]
  }
 ],
 "metadata": {
  "kernelspec": {
   "display_name": "Python 3",
   "language": "python",
   "name": "python3"
  },
  "language_info": {
   "codemirror_mode": {
    "name": "ipython",
    "version": 3
   },
   "file_extension": ".py",
   "mimetype": "text/x-python",
   "name": "python",
   "nbconvert_exporter": "python",
   "pygments_lexer": "ipython3",
   "version": "3.6.5"
  }
 },
 "nbformat": 4,
 "nbformat_minor": 2
}
